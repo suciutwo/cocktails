{
 "metadata": {
  "name": "",
  "signature": "sha256:fdd40972816cad6d43a559304cd8bdf02fbf5087af61f765934502d70cbecba3"
 },
 "nbformat": 3,
 "nbformat_minor": 0,
 "worksheets": [
  {
   "cells": [
    {
     "cell_type": "code",
     "collapsed": false,
     "input": [
      "from src.data_processing.matrix_generation import recipe_matrix, Normalization\n",
      "from src.matrix_factorization import reduce_dimensions, ReductionTypes\n",
      "from sklearn.decomposition import PCA\n",
      "import matplotlib.pyplot as plt\n",
      "import numpy as np\n",
      "\n"
     ],
     "language": "python",
     "metadata": {},
     "outputs": [],
     "prompt_number": 16
    },
    {
     "cell_type": "code",
     "collapsed": false,
     "input": [
      "%matplotlib inline"
     ],
     "language": "python",
     "metadata": {},
     "outputs": [],
     "prompt_number": 13
    },
    {
     "cell_type": "code",
     "collapsed": false,
     "input": [
      "numcomponents = 200"
     ],
     "language": "python",
     "metadata": {},
     "outputs": [],
     "prompt_number": 26
    },
    {
     "cell_type": "code",
     "collapsed": false,
     "input": [
      "recipe_ingredient_matrix, index = recipe_matrix(Normalization.ROW_SUM_ONE)\n",
      "ingredient_recipe_matrix = recipe_ingredient_matrix.transpose()\n",
      "reduced_matrix = reduce_dimensions(ingredient_recipe_matrix,\n",
      "                                       ReductionTypes.PCA,\n",
      "                                       numcomponents)"
     ],
     "language": "python",
     "metadata": {},
     "outputs": [
      {
       "output_type": "stream",
       "stream": "stdout",
       "text": [
        "Building recipe_matrix with matrix_generation.py\n"
       ]
      }
     ],
     "prompt_number": 27
    },
    {
     "cell_type": "code",
     "collapsed": false,
     "input": [
      "model = PCA(n_components=numcomponents, whiten=False)\n",
      "model.fit(recipe_ingredient_matrix.transpose())"
     ],
     "language": "python",
     "metadata": {},
     "outputs": [
      {
       "metadata": {},
       "output_type": "pyout",
       "prompt_number": 28,
       "text": [
        "PCA(copy=True, n_components=200, whiten=False)"
       ]
      }
     ],
     "prompt_number": 28
    },
    {
     "cell_type": "code",
     "collapsed": false,
     "input": [
      "tograph = model.explained_variance_ratio_\n",
      "tograph = np.cumsum(tograph)\n",
      "print tograph\n",
      "plt.plot(range(numcomponents), tograph)\n"
     ],
     "language": "python",
     "metadata": {},
     "outputs": [
      {
       "output_type": "stream",
       "stream": "stdout",
       "text": [
        "[ 0.14829654  0.2130813   0.26263176  0.30980171  0.34352423  0.37012117\n",
        "  0.39534672  0.41993962  0.44426279  0.46738304  0.48848589  0.50863629\n",
        "  0.52802992  0.5451365   0.55976134  0.57372766  0.58672835  0.59838938\n",
        "  0.60875306  0.61863825  0.62842588  0.63793557  0.64707106  0.65599396\n",
        "  0.66464858  0.67304986  0.6814082   0.68952775  0.69717864  0.70472643\n",
        "  0.71206853  0.71925234  0.72622724  0.73301918  0.73971587  0.74585963\n",
        "  0.75168906  0.75750862  0.76320492  0.76872906  0.77404228  0.77917373\n",
        "  0.78406559  0.78871116  0.79327062  0.79753761  0.80175023  0.80584707\n",
        "  0.80989771  0.81384476  0.81772746  0.82140813  0.82493614  0.82844386\n",
        "  0.8318632   0.83519711  0.83832165  0.84134809  0.8442342   0.84707451\n",
        "  0.84983081  0.85256795  0.85521364  0.85783679  0.86031663  0.86272983\n",
        "  0.86510806  0.86748338  0.86985075  0.87219146  0.87445696  0.87667016\n",
        "  0.87885212  0.88102366  0.88317237  0.88531832  0.88742049  0.88950142\n",
        "  0.8914781   0.89337934  0.89524957  0.89706664  0.89887656  0.90061464\n",
        "  0.90234894  0.90401152  0.90564118  0.90724105  0.90882891  0.91039219\n",
        "  0.91193815  0.9134205   0.91489068  0.91627798  0.91764923  0.91900641\n",
        "  0.92031019  0.92157899  0.92281909  0.9240365   0.92523213  0.92641919\n",
        "  0.92758284  0.92868466  0.92978014  0.93084041  0.93186444  0.93287189\n",
        "  0.93387445  0.93486656  0.9358454   0.93682028  0.93777644  0.93870629\n",
        "  0.9396084   0.94050221  0.94137959  0.9422256   0.94306553  0.94389207\n",
        "  0.94467747  0.94545018  0.94621683  0.94695779  0.94769282  0.94842338\n",
        "  0.94914068  0.94985293  0.95055488  0.95124428  0.95192742  0.95260064\n",
        "  0.95325771  0.95390128  0.95454268  0.95517972  0.95580983  0.95643137\n",
        "  0.95704815  0.95765897  0.95826821  0.95887435  0.95947659  0.96006342\n",
        "  0.96063963  0.96121005  0.96177595  0.96233695  0.96289354  0.96344229\n",
        "  0.96397998  0.96451086  0.96503838  0.96555326  0.96605545  0.96655617\n",
        "  0.96705317  0.96754414  0.96802758  0.96849727  0.96896094  0.96941943\n",
        "  0.96987175  0.97032085  0.97076681  0.97120536  0.97163535  0.97206215\n",
        "  0.97248465  0.97290427  0.9733206   0.97372293  0.97411853  0.97450939\n",
        "  0.97489464  0.975274    0.97564243  0.97600469  0.97636566  0.97672342\n",
        "  0.97707973  0.97743535  0.9777848   0.97812762  0.97846789  0.97880162\n",
        "  0.97913083  0.97945442  0.97977334  0.98008805  0.98039596  0.98070186\n",
        "  0.98099998  0.98129232  0.98158261  0.9818711   0.98215768  0.98243961\n",
        "  0.98272149  0.98300043]\n"
       ]
      },
      {
       "metadata": {},
       "output_type": "pyout",
       "prompt_number": 29,
       "text": [
        "[<matplotlib.lines.Line2D at 0x1012cf250>]"
       ]
      },
      {
       "metadata": {},
       "output_type": "display_data",
       "png": "[encoded data removed]",
       "text": [
        "<matplotlib.figure.Figure at 0x10b0e2690>"
       ]
      }
     ],
     "prompt_number": 29
    },
    {
     "cell_type": "code",
     "collapsed": false,
     "input": [],
     "language": "python",
     "metadata": {},
     "outputs": []
    }
   ],
   "metadata": {}
  }
 ]
}