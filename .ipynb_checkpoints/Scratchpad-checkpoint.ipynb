{
 "metadata": {
  "name": "",
  "signature": "sha256:0f01556298bb398c2295e93cf49ebf11da2923babef87582e771f02542fcc5e7"
 },
 "nbformat": 3,
 "nbformat_minor": 0,
 "worksheets": [
  {
   "cells": [
    {
     "cell_type": "code",
     "collapsed": false,
     "input": [
      "import src.constants as constants\n",
      "from BeautifulSoup import BeautifulSoup\n",
      "from collections import Counter"
     ],
     "language": "python",
     "metadata": {},
     "outputs": [],
     "prompt_number": 210
    },
    {
     "cell_type": "code",
     "collapsed": false,
     "input": [
      "recipe_ingredient_matrix, index = recipe_matrix(Normalization.ROW_SUM_ONE)\n",
      "ingredient_recipe_matrix = recipe_ingredient_matrix.transpose()\n",
      "reduced_matrix = reduce_dimensions(ingredient_recipe_matrix,\n",
      "                                       ReductionTypes.PCA,\n",
      "                                       20)"
     ],
     "language": "python",
     "metadata": {},
     "outputs": [],
     "prompt_number": 211
    },
    {
     "cell_type": "code",
     "collapsed": false,
     "input": [],
     "language": "python",
     "metadata": {},
     "outputs": []
    }
   ],
   "metadata": {}
  }
 ]
}