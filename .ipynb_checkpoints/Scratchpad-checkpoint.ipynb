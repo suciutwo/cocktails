{
 "metadata": {
  "name": "",
  "signature": "sha256:4abaa3f592011623d8d7664a48785394cc7202f92cd31c9a3f1afa01874628b4"
 },
 "nbformat": 3,
 "nbformat_minor": 0,
 "worksheets": [
  {
   "cells": [
    {
     "cell_type": "code",
     "collapsed": false,
     "input": [
      "import src.constants as constants\n",
      "from BeautifulSoup import BeautifulSoup\n",
      "from collections import Counter"
     ],
     "language": "python",
     "metadata": {},
     "outputs": [],
     "prompt_number": 210
    },
    {
     "cell_type": "code",
     "collapsed": false,
     "input": [],
     "language": "python",
     "metadata": {},
     "outputs": [],
     "prompt_number": 211
    },
    {
     "cell_type": "code",
     "collapsed": false,
     "input": [
      "cocktail_pages = pickle.load(open(constants.COCKTAILS_FILENAME))\n",
      "all_recipes = {}\n",
      "counter = Counter()\n",
      "count_extra = 0\n",
      "for i, cocktail_page in enumerate(cocktail_pages):\n",
      "    if i % 1000 == 0:\n",
      "            print 'Parsing recipe ' + str(i)\n",
      "\n",
      "    if i > 100:\n",
      "        break\n",
      "            \n",
      "    try:\n",
      "        soup = BeautifulSoup(cocktail_page)\n",
      "        title = soup.findAll('h2')[0].string.strip()\n",
      "        recipe = []\n",
      "        measurements = soup.findAll('div', {'class': 'recipeMeasure'})\n",
      "        for measure in measurements:\n",
      "            amount = measure.contents[0]\n",
      "            ingredient = measure.a.string\n",
      "            alternative_amount = ''\n",
      "            if measure.span:\n",
      "                alternative_amount = measure.span.string\n",
      "            recipe.append([ingredient, amount, alternative_amount])\n",
      "        # print recipe\n",
      "        additional_steps = soup.findAll('div', {'class': 'recipeDirection'})\n",
      "        had_extra_stuff = False\n",
      "        for step in additional_steps:\n",
      "            instruction_text = ''.join([elem.string for elem in step.contents])\n",
      "            anchors = step.findAll('a')\n",
      "            for anchor in anchors:\n",
      "                is_ingredient = anchor['href'].find('ingr_detail') >= 0\n",
      "                not_a_cocktail_shaker = anchor['href'].find('id=322') == -1\n",
      "                not_a_chaser = anchor['href'].find('id=383') == -1\n",
      "                if is_ingredient and not_a_cocktail_shaker and not_a_chaser:\n",
      "                    ingredient = anchor.string\n",
      "                    amount = instruction_text\n",
      "                    alternative_amount = ''\n",
      "                    counter[anchor.string+\" \"+instruction_text+str(anchor)] += 1\n",
      "                    recipe.append([ingredient, amount, alternative_amount])\n",
      "                    had_extra_stuff = True\n",
      "        if had_extra_stuff:\n",
      "            count_extra += 1;\n",
      "\n",
      "        all_recipes[title] = recipe\n",
      "    except Exception as exception:  # pylint: disable=W0703\n",
      "        print exception\n",
      "        print \"FAILED TO SCRAPE THIS PAGE EARLIER IN THE PIPELINE\"\n",
      "        continue\n",
      "        \n",
      "print count_extra"
     ],
     "language": "python",
     "metadata": {},
     "outputs": [
      {
       "output_type": "stream",
       "stream": "stdout",
       "text": [
        "Parsing recipe 0\n",
        "<a href=\"ingr_detail?id=111\">lemon twist</a>"
       ]
      },
      {
       "output_type": "stream",
       "stream": "stdout",
       "text": [
        "\n",
        "\tlemon twist\n",
        "\t\tAdd lemon twist\n",
        "XXXXXXX\n",
        "<a href=\"ingr_detail?id=370\">sugar</a>"
       ]
      },
      {
       "output_type": "stream",
       "stream": "stdout",
       "text": [
        "\n",
        "\tsugar\n",
        "\t\tAdd sugar to taste\n",
        "XXXXXXX\n",
        "<a href=\"ingr_detail?id=370\">sugar</a>"
       ]
      },
      {
       "output_type": "stream",
       "stream": "stdout",
       "text": [
        "\n",
        "\tsugar\n",
        "\t\tAdd sugar to taste\n",
        "XXXXXXX\n",
        "<a href=\"ingr_detail?id=370\">sugar cube</a>"
       ]
      },
      {
       "output_type": "stream",
       "stream": "stdout",
       "text": [
        "\n",
        "\tsugar cube\n",
        "\t\tPlace sugar cube on top\n",
        "<a href=\"ingr_detail?id=217\">pastis</a>\n",
        "\tpastis\n",
        "\t\tDrip pastis over sugar drip by drip\n",
        "<a href=\"ingr_detail?id=370\">sugar</a>\n",
        "\tsugar\n",
        "\t\tDrip pastis over sugar drip by drip\n",
        "<a href=\"ingr_detail?id=111\">lemon twist</a>\n",
        "\tlemon twist\n",
        "\t\tAdd lemon twist, straws\n",
        "XXXXXXX\n",
        "<a href=\"ingr_detail?id=338\">nutmeg</a>"
       ]
      },
      {
       "output_type": "stream",
       "stream": "stdout",
       "text": [
        "\n",
        "\tnutmeg\n",
        "\t\tAdd nutmeg sprinkle\n",
        "XXXXXXX\n",
        "<a href=\"ingr_detail?id=118\">orange</a>"
       ]
      },
      {
       "output_type": "stream",
       "stream": "stdout",
       "text": [
        "\n",
        "\torange\n",
        "\t\tAdd orange peel\n",
        "XXXXXXX\n",
        "<a href=\"ingr_detail?id=365\">soda</a>"
       ]
      },
      {
       "output_type": "stream",
       "stream": "stdout",
       "text": [
        "\n",
        "\tsoda\n",
        "\t\tFill with soda\n",
        "XXXXXXX\n",
        "<a href=\"ingr_detail?id=432\">Champagne</a>"
       ]
      },
      {
       "output_type": "stream",
       "stream": "stdout",
       "text": [
        "\n",
        "\tChampagne\n",
        "\t\tFill with Champagne\n",
        "XXXXXXX\n",
        "<a href=\"ingr_detail?id=338\">nutmeg</a>"
       ]
      },
      {
       "output_type": "stream",
       "stream": "stdout",
       "text": [
        "\n",
        "\tnutmeg\n",
        "\t\tAdd nutmeg sprinkle\n",
        "XXXXXXX\n",
        "<a href=\"ingr_detail?id=9\">ale</a>"
       ]
      },
      {
       "output_type": "stream",
       "stream": "stdout",
       "text": [
        "\n",
        "\tale\n",
        "\t\tFill with chilled ale\n",
        "<a href=\"ingr_detail?id=338\">nutmeg</a>\n",
        "\tnutmeg\n",
        "\t\tAdd nutmeg sprinkle\n",
        "XXXXXXX\n",
        "<a href=\"ingr_detail?id=432\">Champagne</a>"
       ]
      },
      {
       "output_type": "stream",
       "stream": "stdout",
       "text": [
        "\n",
        "\tChampagne\n",
        "\t\tFill with Champagne\n",
        "<a href=\"ingr_detail?id=111\">lemon twist</a>\n",
        "\tlemon twist\n",
        "\t\tAdd lemon twist\n",
        "XXXXXXX\n",
        "<a href=\"ingr_detail?id=106\">fruit</a>"
       ]
      },
      {
       "output_type": "stream",
       "stream": "stdout",
       "text": [
        "\n",
        "\tfruit\n",
        "\t\tAdd fruit garnish\n",
        "<a href=\"ingr_detail?id=107\">garnish</a>\n",
        "\tgarnish\n",
        "\t\tAdd fruit garnish\n",
        "<a href=\"ingr_detail?id=354\">raspberry syrup</a>\n",
        "\traspberry syrup\n",
        "\t\tFloat raspberry syrup\n",
        "XXXXXXX\n",
        "<a href=\"ingr_detail?id=217\">pastis</a>"
       ]
      },
      {
       "output_type": "stream",
       "stream": "stdout",
       "text": [
        "\n",
        "\tpastis\n",
        "\t\tCoat inside of glass with pastis\n",
        "<a href=\"ingr_detail?id=370\">sugar</a>\n",
        "\tsugar\n",
        "\t\tAdd sugar rim\n",
        "XXXXXXX\n",
        "<a href=\"ingr_detail?id=365\">soda</a>"
       ]
      },
      {
       "output_type": "stream",
       "stream": "stdout",
       "text": [
        "\n",
        "\tsoda\n",
        "\t\tFill with ice, soda\n",
        "XXXXXXX\n",
        "<a href=\"ingr_detail?id=365\">soda</a>"
       ]
      },
      {
       "output_type": "stream",
       "stream": "stdout",
       "text": [
        "\n",
        "\tsoda\n",
        "\t\tFill with ice, soda\n",
        "XXXXXXX\n",
        "<a href=\"ingr_detail?id=365\">soda</a>"
       ]
      },
      {
       "output_type": "stream",
       "stream": "stdout",
       "text": [
        "\n",
        "\tsoda\n",
        "\t\tFill with soda\n",
        "XXXXXXX\n",
        "<a href=\"ingr_detail?id=432\">Champagne</a>"
       ]
      },
      {
       "output_type": "stream",
       "stream": "stdout",
       "text": [
        "\n",
        "\tChampagne\n",
        "\t\tFill with Champagne\n",
        "XXXXXXX\n",
        "<a href=\"ingr_detail?id=365\">soda</a>"
       ]
      },
      {
       "output_type": "stream",
       "stream": "stdout",
       "text": [
        "\n",
        "\tsoda\n",
        "\t\tFill with ice, soda\n",
        "XXXXXXX\n",
        "<a href=\"ingr_detail?id=365\">soda</a>"
       ]
      },
      {
       "output_type": "stream",
       "stream": "stdout",
       "text": [
        "\n",
        "\tsoda\n",
        "\t\tFill with ice, soda\n",
        "XXXXXXX\n",
        "<a href=\"ingr_detail?id=365\">soda</a>"
       ]
      },
      {
       "output_type": "stream",
       "stream": "stdout",
       "text": [
        "\n",
        "\tsoda\n",
        "\t\tFill with ice, soda\n",
        "XXXXXXX\n",
        "<a href=\"ingr_detail?id=111\">lemon twist</a>"
       ]
      },
      {
       "output_type": "stream",
       "stream": "stdout",
       "text": [
        "\n",
        "\tlemon twist\n",
        "\t\tAdd lemon twist\n",
        "XXXXXXX\n",
        "<a href=\"ingr_detail?id=96\">cherry</a>"
       ]
      },
      {
       "output_type": "stream",
       "stream": "stdout",
       "text": [
        "\n",
        "\tcherry\n",
        "\t\tAdd cherry\n",
        "XXXXXXX\n",
        "<a href=\"ingr_detail?id=365\">soda</a>"
       ]
      },
      {
       "output_type": "stream",
       "stream": "stdout",
       "text": [
        "\n",
        "\tsoda\n",
        "\t\tFill with ice, soda\n",
        "<a href=\"ingr_detail?id=122\">pineapple spear</a>\n",
        "\tpineapple spear\n",
        "\t\tAdd pineapple spear, grated lemon\n",
        "<a href=\"ingr_detail?id=111\">lemon</a>\n",
        "\tlemon\n",
        "\t\tAdd pineapple spear, grated lemon\n",
        "XXXXXXX\n",
        "<a href=\"ingr_detail?id=365\">soda</a>"
       ]
      },
      {
       "output_type": "stream",
       "stream": "stdout",
       "text": [
        "\n",
        "\tsoda\n",
        "\t\tFill with soda or ginger ale & ice cubes\n",
        "<a href=\"ingr_detail?id=312\">ginger ale</a>\n",
        "\tginger ale\n",
        "\t\tFill with soda or ginger ale & ice cubes\n",
        "<a href=\"ingr_detail?id=111\">lemon twist</a>\n",
        "\tlemon twist\n",
        "\t\tAdd lemon twist\n",
        "XXXXXXX\n",
        "<a href=\"ingr_detail?id=365\">soda</a>"
       ]
      },
      {
       "output_type": "stream",
       "stream": "stdout",
       "text": [
        "\n",
        "\tsoda\n",
        "\t\tFill with ice, soda\n",
        "XXXXXXX\n",
        "<a href=\"ingr_detail?id=338\">nutmeg</a>"
       ]
      },
      {
       "output_type": "stream",
       "stream": "stdout",
       "text": [
        "\n",
        "\tnutmeg\n",
        "\t\tAdd nutmeg sprinkle\n",
        "XXXXXXX\n",
        "<a href=\"ingr_detail?id=305\">cream</a>"
       ]
      },
      {
       "output_type": "stream",
       "stream": "stdout",
       "text": [
        "\n",
        "\tcream\n",
        "\t\tFloat cream\n",
        "XXXXXXX\n",
        "<a href=\"ingr_detail?id=112\">lime slice</a>"
       ]
      },
      {
       "output_type": "stream",
       "stream": "stdout",
       "text": [
        "\n",
        "\tlime slice\n",
        "\t\tAdd lime slice\n",
        "XXXXXXX\n",
        "<a href=\"ingr_detail?id=111\">lemon twist</a>"
       ]
      },
      {
       "output_type": "stream",
       "stream": "stdout",
       "text": [
        "\n",
        "\tlemon twist\n",
        "\t\tAdd lemon twist, orange peel\n",
        "<a href=\"ingr_detail?id=118\">orange</a>\n",
        "\torange\n",
        "\t\tAdd lemon twist, orange peel\n",
        "XXXXXXX\n",
        "<a href=\"ingr_detail?id=312\">ginger ale</a>"
       ]
      },
      {
       "output_type": "stream",
       "stream": "stdout",
       "text": [
        "\n",
        "\tginger ale\n",
        "\t\tFill with ginger ale\n",
        "<a href=\"ingr_detail?id=111\">lemon twist</a>\n",
        "\tlemon twist\n",
        "\t\tAdd lemon twist\n",
        "XXXXXXX\n",
        "<a href=\"ingr_detail?id=111\">lemon twist</a>"
       ]
      },
      {
       "output_type": "stream",
       "stream": "stdout",
       "text": [
        "\n",
        "\tlemon twist\n",
        "\t\tAdd lemon twist\n",
        "XXXXXXX\n",
        "<a href=\"ingr_detail?id=274\">apple juice</a>"
       ]
      },
      {
       "output_type": "stream",
       "stream": "stdout",
       "text": [
        "\n",
        "\tapple juice\n",
        "\t\tFill with apple juice\n",
        "XXXXXXX\n",
        "<a href=\"ingr_detail?id=111\">lemon wedge</a>"
       ]
      },
      {
       "output_type": "stream",
       "stream": "stdout",
       "text": [
        "\n",
        "\tlemon wedge\n",
        "\t\tAdd lemon wedge\n",
        "XXXXXXX\n",
        "<a href=\"ingr_detail?id=111\">lemon wedge</a>"
       ]
      },
      {
       "output_type": "stream",
       "stream": "stdout",
       "text": [
        "\n",
        "\tlemon wedge\n",
        "\t\tAdd lemon wedge, nutmeg sprinkle\n",
        "<a href=\"ingr_detail?id=338\">nutmeg</a>\n",
        "\tnutmeg\n",
        "\t\tAdd lemon wedge, nutmeg sprinkle\n",
        "XXXXXXX\n",
        "<a href=\"ingr_detail?id=338\">nutmeg</a>"
       ]
      },
      {
       "output_type": "stream",
       "stream": "stdout",
       "text": [
        "\n",
        "\tnutmeg\n",
        "\t\tAdd nutmeg sprinkle\n",
        "XXXXXXX\n",
        "<a href=\"ingr_detail?id=365\">soda</a>"
       ]
      },
      {
       "output_type": "stream",
       "stream": "stdout",
       "text": [
        "\n",
        "\tsoda\n",
        "\t\tFill with crushed ice, soda Squirt\n",
        "<a href=\"ingr_detail?id=368\">Squirt</a>\n",
        "\tSquirt\n",
        "\t\tFill with crushed ice, soda Squirt\n",
        "<a href=\"ingr_detail?id=111\">lemon wedge</a>\n",
        "\tlemon wedge\n",
        "\t\tAdd lemon wedge\n",
        "XXXXXXX\n",
        "<a href=\"ingr_detail?id=365\">soda</a>"
       ]
      },
      {
       "output_type": "stream",
       "stream": "stdout",
       "text": [
        "\n",
        "\tsoda\n",
        "\t\tSeveral ice cubes, soda\n",
        "XXXXXXX\n",
        "<a href=\"ingr_detail?id=111\">lemon wedge</a>"
       ]
      },
      {
       "output_type": "stream",
       "stream": "stdout",
       "text": [
        "\n",
        "\tlemon wedge\n",
        "\t\tAdd lemon wedge, cherry\n",
        "<a href=\"ingr_detail?id=96\">cherry</a>\n",
        "\tcherry\n",
        "\t\tAdd lemon wedge, cherry\n",
        "XXXXXXX\n",
        "<a href=\"ingr_detail?id=338\">nutmeg</a>"
       ]
      },
      {
       "output_type": "stream",
       "stream": "stdout",
       "text": [
        "\n",
        "\tnutmeg\n",
        "\t\tAdd nutmeg sprinkle\n",
        "XXXXXXX\n",
        "<a href=\"ingr_detail?id=365\">soda</a>"
       ]
      },
      {
       "output_type": "stream",
       "stream": "stdout",
       "text": [
        "\n",
        "\tsoda\n",
        "\t\tFill with soda or ginger ale\n",
        "<a href=\"ingr_detail?id=312\">ginger ale</a>\n",
        "\tginger ale\n",
        "\t\tFill with soda or ginger ale\n",
        "<a href=\"ingr_detail?id=111\">lemon twist</a>\n",
        "\tlemon twist\n",
        "\t\tAdd lemon twist\n",
        "XXXXXXX\n",
        "<a href=\"ingr_detail?id=312\">ginger ale</a>"
       ]
      },
      {
       "output_type": "stream",
       "stream": "stdout",
       "text": [
        "\n",
        "\tginger ale\n",
        "\t\tFill with ginger ale\n",
        "<a href=\"ingr_detail?id=106\">fruit</a>\n",
        "\tfruit\n",
        "\t\tAdd fruit garnish\n",
        "<a href=\"ingr_detail?id=107\">garnish</a>\n",
        "\tgarnish\n",
        "\t\tAdd fruit garnish\n",
        "XXXXXXX\n",
        "<a href=\"ingr_detail?id=365\">soda</a>"
       ]
      },
      {
       "output_type": "stream",
       "stream": "stdout",
       "text": [
        "\n",
        "\tsoda\n",
        "\t\tFill with soda\n",
        "XXXXXXX\n",
        "<a href=\"ingr_detail?id=365\">soda</a>"
       ]
      },
      {
       "output_type": "stream",
       "stream": "stdout",
       "text": [
        "\n",
        "\tsoda\n",
        "\t\tFill with ice, soda\n",
        "<a href=\"ingr_detail?id=338\">nutmeg</a>\n",
        "\tnutmeg\n",
        "\t\tAdd nutmeg sprinkle\n",
        "XXXXXXX\n",
        "<a href=\"ingr_detail?id=111\">lemon wedge</a>"
       ]
      },
      {
       "output_type": "stream",
       "stream": "stdout",
       "text": [
        "\n",
        "\tlemon wedge\n",
        "\t\tAdd lemon wedge or orange slice & cherry\n",
        "<a href=\"ingr_detail?id=118\">orange slice</a>\n",
        "\torange slice\n",
        "\t\tAdd lemon wedge or orange slice & cherry\n",
        "<a href=\"ingr_detail?id=96\">cherry</a>\n",
        "\tcherry\n",
        "\t\tAdd lemon wedge or orange slice & cherry\n",
        "XXXXXXX\n",
        "<a href=\"ingr_detail?id=96\">cherry</a>"
       ]
      },
      {
       "output_type": "stream",
       "stream": "stdout",
       "text": [
        "\n",
        "\tcherry\n",
        "\t\tAdd cherry\n",
        "XXXXXXX\n",
        "<a href=\"ingr_detail?id=338\">nutmeg</a>"
       ]
      },
      {
       "output_type": "stream",
       "stream": "stdout",
       "text": [
        "\n",
        "\tnutmeg\n",
        "\t\tAdd nutmeg sprinkle\n",
        "XXXXXXX\n",
        "<a href=\"ingr_detail?id=273\">apple cider</a>"
       ]
      },
      {
       "output_type": "stream",
       "stream": "stdout",
       "text": [
        "\n",
        "\tapple cider\n",
        "\t\tFill with hot apple cider\n",
        "<a href=\"ingr_detail?id=338\">nutmeg</a>\n",
        "\tnutmeg\n",
        "\t\tAdd nutmeg sprinkle\n",
        "XXXXXXX\n",
        "<a href=\"ingr_detail?id=338\">nutmeg</a>"
       ]
      },
      {
       "output_type": "stream",
       "stream": "stdout",
       "text": [
        "\n",
        "\tnutmeg\n",
        "\t\tAdd nutmeg sprinkle\n",
        "XXXXXXX\n",
        "<a href=\"ingr_detail?id=111\">lemon twist</a>"
       ]
      },
      {
       "output_type": "stream",
       "stream": "stdout",
       "text": [
        "\n",
        "\tlemon twist\n",
        "\t\tAdd lemon twist\n",
        "XXXXXXX\n",
        "<a href=\"ingr_detail?id=111\">lemon twist</a>"
       ]
      },
      {
       "output_type": "stream",
       "stream": "stdout",
       "text": [
        "\n",
        "\tlemon twist\n",
        "\t\tAdd lemon twist\n",
        "XXXXXXX\n",
        "<a href=\"ingr_detail?id=365\">soda</a>"
       ]
      },
      {
       "output_type": "stream",
       "stream": "stdout",
       "text": [
        "\n",
        "\tsoda\n",
        "\t\tFill with ice, soda\n",
        "<a href=\"ingr_detail?id=111\">lemon twist</a>\n",
        "\tlemon twist\n",
        "\t\tAdd lemon twist, apricot slice\n",
        "<a href=\"ingr_detail?id=92\">apricot slice</a>\n",
        "\tapricot slice\n",
        "\t\tAdd lemon twist, apricot slice\n",
        "XXXXXXX\n",
        "<a href=\"ingr_detail?id=365\">soda</a>"
       ]
      },
      {
       "output_type": "stream",
       "stream": "stdout",
       "text": [
        "\n",
        "\tsoda\n",
        "\t\tFill with soda\n",
        "XXXXXXX\n",
        "<a href=\"ingr_detail?id=365\">soda</a>"
       ]
      },
      {
       "output_type": "stream",
       "stream": "stdout",
       "text": [
        "\n",
        "\tsoda\n",
        "\t\tFill with soda\n",
        "<a href=\"ingr_detail?id=111\">lemon</a>\n",
        "\tlemon\n",
        "\t\tAdd lemon & orange spirals\n",
        "<a href=\"ingr_detail?id=118\">orange</a>\n",
        "\torange\n",
        "\t\tAdd lemon & orange spirals\n",
        "XXXXXXX\n",
        "<a href=\"ingr_detail?id=118\">orange</a>"
       ]
      },
      {
       "output_type": "stream",
       "stream": "stdout",
       "text": [
        "\n",
        "\torange\n",
        "\t\tAdd orange peel\n",
        "XXXXXXX\n",
        "54\n"
       ]
      }
     ],
     "prompt_number": 223
    },
    {
     "cell_type": "code",
     "collapsed": false,
     "input": [],
     "language": "python",
     "metadata": {},
     "outputs": []
    }
   ],
   "metadata": {}
  }
 ]
}